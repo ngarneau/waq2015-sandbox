{
 "metadata": {
  "name": "",
  "signature": "sha256:9793bd96f3509ade439c524bf89b357037fa0c74972f3baacf4a68faf5e64731"
 },
 "nbformat": 3,
 "nbformat_minor": 0,
 "worksheets": [
  {
   "cells": [
    {
     "cell_type": "code",
     "collapsed": false,
     "input": [
      "import numpy as np\n",
      "\n",
      "# Utilities\n",
      "from sklearn.datasets import load_svmlight_file\n",
      "from sklearn.datasets import dump_svmlight_file\n",
      "\n",
      "# Premodel\n",
      "from sklearn import preprocessing\n",
      "\n",
      "# Model\n",
      "from sklearn import neighbors\n",
      "\n",
      "# Cross validation\n",
      "from sklearn import cross_validation\n",
      "from sklearn.cross_validation import train_test_split\n",
      "from sklearn.grid_search import GridSearchCV\n",
      "\n",
      "# Metrics\n",
      "from sklearn.metrics import classification_report\n",
      "from sklearn.metrics import confusion_matrix\n",
      "\n",
      "# Plot\n",
      "import matplotlib.pyplot as plt\n",
      "from matplotlib.colors import ListedColormap\n",
      "%matplotlib inline"
     ],
     "language": "python",
     "metadata": {},
     "outputs": [],
     "prompt_number": 27
    },
    {
     "cell_type": "code",
     "collapsed": false,
     "input": [
      "# Load necessary datasets\n",
      "X, y = load_svmlight_file(\"../dataset/dataset\")\n",
      "X_mystery, y_mystery = load_svmlight_file(\"../dataset/mystery\")"
     ],
     "language": "python",
     "metadata": {},
     "outputs": [],
     "prompt_number": 28
    },
    {
     "cell_type": "code",
     "collapsed": false,
     "input": [
      "X.toarray()"
     ],
     "language": "python",
     "metadata": {},
     "outputs": [
      {
       "metadata": {},
       "output_type": "pyout",
       "prompt_number": 32,
       "text": [
        "array([[ 10.30460194,  -7.27004174,   4.00449091, ...,   0.41532208,\n",
        "        -28.29121803,  22.77455215],\n",
        "       [ 38.62835039,   2.20659639,  18.39783952, ...,   7.26361834,\n",
        "         23.1958964 ,   2.42914083],\n",
        "       [-16.87654851,  -4.82936959,   7.10647311, ...,  30.7814339 ,\n",
        "         11.23987167, -24.2396239 ],\n",
        "       ..., \n",
        "       [  5.25108284, -10.89057175,  -4.30104417, ...,   0.51334794,\n",
        "         -7.38221896,  -9.68606571],\n",
        "       [-17.55699335, -10.84649123,  -8.1558922 , ...,  -3.33664411,\n",
        "         -3.49291264,  -5.76354145],\n",
        "       [ 26.83706205,   9.43223908, -22.79409307, ...,  24.10168693,\n",
        "         16.99119593, -20.24141743]])"
       ]
      }
     ],
     "prompt_number": 32
    },
    {
     "cell_type": "code",
     "collapsed": false,
     "input": [
      "# Make sure we don't have an unbalanced dataset\n",
      "print \"Nombre de positifs \" + str(len([i for i in y if i == 1.0]))\n",
      "print \"Nombre de n\u00e9gatifs \" + str(len([i for i in y if i == 0.0]))"
     ],
     "language": "python",
     "metadata": {},
     "outputs": [
      {
       "output_type": "stream",
       "stream": "stdout",
       "text": [
        "Nombre de positifs 467\n",
        "Nombre de n\u00e9gatifs 333\n"
       ]
      }
     ],
     "prompt_number": 33
    },
    {
     "cell_type": "code",
     "collapsed": false,
     "input": [
      "#-------\n",
      "# Preprocess the data\n",
      "# We can perform several preprocessing steps on our dataset.\n",
      "# Here is one example of scaling the dataset.\n",
      "# See also:\n",
      "#    http://scikit-learn.org/stable/modules/preprocessing.html#normalization\n",
      "#-------\n",
      "print X.toarray()[0][:20]\n",
      "\n",
      "min_max_scaler = preprocessing.MinMaxScaler()\n",
      "\n",
      "X = min_max_scaler.fit_transform(X.toarray())\n",
      "\n",
      "X_mystery = min_max_scaler.transform(X_mystery.toarray())\n",
      "\n",
      "print X[0][:20]"
     ],
     "language": "python",
     "metadata": {},
     "outputs": [
      {
       "output_type": "stream",
       "stream": "stdout",
       "text": [
        "[ 10.30460194  -7.27004174   4.00449091 -20.12969229  -1.47377388\n",
        "   1.84316749   1.89318571   5.32598192   4.01145829   0.19163751\n",
        " -18.86281754  10.41091342  18.65618308   4.10834194   5.42246745\n",
        "   5.32677559  -6.8134092    6.13241994  -6.0163422    1.71205763]\n",
        "[ 0.59184401  0.28537982  0.60632519  0.31609726  0.40444623  0.7159433\n",
        "  0.52465406  0.59993048  0.62302895  0.8248833   0.2710579   0.65586847\n",
        "  1.          0.56365311  0.73078767  0.73708978  0.38107206  0.63321984\n",
        "  0.38392825  0.47895971]\n"
       ]
      }
     ],
     "prompt_number": 48
    },
    {
     "cell_type": "code",
     "collapsed": false,
     "input": [
      "#--------\n",
      "# Simple validation\n",
      "# using train and test sets\n",
      "#--------\n",
      "model = neighbors.KNeighborsClassifier(n_neighbors=5)\n",
      "X_train, X_test, y_train, y_test = cross_validation.train_test_split(X, y, test_size=0.4)\n",
      "model.fit(X_train, y_train)\n",
      "print model.score(X_test, y_test)"
     ],
     "language": "python",
     "metadata": {},
     "outputs": [
      {
       "output_type": "stream",
       "stream": "stdout",
       "text": [
        "0.665625\n"
       ]
      }
     ],
     "prompt_number": 53
    },
    {
     "cell_type": "code",
     "collapsed": false,
     "input": [
      "#--------\n",
      "# Cross validation\n",
      "#--------\n",
      "model = neighbors.KNeighborsClassifier(n_neighbors=5, weights='distance')\n",
      "scores = cross_validation.cross_val_score(model, X, y, verbose=3, cv=10)\n",
      "print scores\n",
      "print scores.mean()"
     ],
     "language": "python",
     "metadata": {},
     "outputs": [
      {
       "output_type": "stream",
       "stream": "stdout",
       "text": [
        "[CV] no parameters to be set .........................................\n",
        "[CV] ................ no parameters to be set, score=0.617284 -   0.0s\n",
        "[CV] no parameters to be set .........................................\n",
        "[CV] ................ no parameters to be set, score=0.679012 -   0.1s"
       ]
      },
      {
       "output_type": "stream",
       "stream": "stdout",
       "text": [
        "\n",
        "[CV] no parameters to be set .........................................\n",
        "[CV] ................ no parameters to be set, score=0.691358 -   0.0s"
       ]
      },
      {
       "output_type": "stream",
       "stream": "stdout",
       "text": [
        "\n",
        "[CV] no parameters to be set .........................................\n",
        "[CV] ................ no parameters to be set, score=0.650000 -   0.1s"
       ]
      },
      {
       "output_type": "stream",
       "stream": "stdout",
       "text": [
        "\n",
        "[CV] no parameters to be set .........................................\n",
        "[CV] ................ no parameters to be set, score=0.725000 -   0.0s\n",
        "[CV] no parameters to be set .........................................\n",
        "[CV] ................ no parameters to be set, score=0.625000 -   0.0s"
       ]
      },
      {
       "output_type": "stream",
       "stream": "stdout",
       "text": [
        "\n",
        "[CV] no parameters to be set .........................................\n",
        "[CV] ................ no parameters to be set, score=0.587500 -   0.0s\n",
        "[CV] no parameters to be set .........................................\n",
        "[CV] ................ no parameters to be set, score=0.670886 -   0.0s"
       ]
      },
      {
       "output_type": "stream",
       "stream": "stdout",
       "text": [
        "\n",
        "[CV] no parameters to be set .........................................\n",
        "[CV] ................ no parameters to be set, score=0.696203 -   0.0s\n",
        "[CV] no parameters to be set .........................................\n",
        "[CV] ................ no parameters to be set, score=0.670886 -   0.0s"
       ]
      },
      {
       "output_type": "stream",
       "stream": "stderr",
       "text": [
        "[Parallel(n_jobs=1)]: Done   1 jobs       | elapsed:    0.0s\n",
        "[Parallel(n_jobs=1)]: Done  10 out of  10 | elapsed:    0.5s finished\n"
       ]
      },
      {
       "output_type": "stream",
       "stream": "stdout",
       "text": [
        "\n",
        "[ 0.61728395  0.67901235  0.69135802  0.65        0.725       0.625       0.5875\n",
        "  0.67088608  0.69620253  0.67088608]\n",
        "0.661312900453\n"
       ]
      }
     ],
     "prompt_number": 54
    },
    {
     "cell_type": "code",
     "collapsed": false,
     "input": [
      "#--------\n",
      "# Grid search\n",
      "# Search for the best hyper-parameters for our model.\n",
      "# In our case we test for the number of neighbors and the weights picked by the algorithm.\n",
      "#--------\n",
      "tuned_parameters = [{'n_neighbors': [5, 9, 15, 25, 35, 45, 55, 65], 'weights': ['uniform', 'distance']}]\n",
      "X_train, X_test, y_train, y_test = cross_validation.train_test_split(X, y, test_size=0.4, random_state=0)\n",
      "\n",
      "def cross_val():\n",
      "    scores = ['accuracy', 'f1']\n",
      "    for score in scores:\n",
      "        print(\"# Tuning hyper-parameters for %s\" % score)\n",
      "        print()\n",
      "\n",
      "        clf = GridSearchCV(neighbors.KNeighborsClassifier(), tuned_parameters, cv=10, scoring=score)\n",
      "        clf.fit(X_train, y_train)\n",
      "\n",
      "        print(\"Best parameters set found on development set:\")\n",
      "        print()\n",
      "        print(clf.best_estimator_)\n",
      "        print()\n",
      "        print(\"Grid scores on development set:\")\n",
      "        print()\n",
      "        for params, mean_score, scores in clf.grid_scores_:\n",
      "            print(\"%0.3f (+/-%0.03f) for %r\"\n",
      "                  % (mean_score, scores.std() / 2, params))\n",
      "        print()\n",
      "\n",
      "        print(\"Detailed classification report:\")\n",
      "        print()\n",
      "        print(\"The model is trained on the full development set.\")\n",
      "        print(\"The scores are computed on the full evaluation set.\")\n",
      "        print()\n",
      "        y_true, y_pred = y_test, clf.predict(X_test)\n",
      "        print(classification_report(y_true, y_pred))\n",
      "        print()\n",
      "    \n",
      "cross_val()"
     ],
     "language": "python",
     "metadata": {},
     "outputs": [
      {
       "output_type": "stream",
       "stream": "stdout",
       "text": [
        "# Tuning hyper-parameters for accuracy\n",
        "()\n",
        "Best parameters set found on development set:"
       ]
      },
      {
       "output_type": "stream",
       "stream": "stdout",
       "text": [
        "\n",
        "()\n",
        "KNeighborsClassifier(algorithm='auto', leaf_size=30, metric='minkowski',\n",
        "           metric_params=None, n_neighbors=5, p=2, weights='uniform')\n",
        "()\n",
        "Grid scores on development set:\n",
        "()\n",
        "0.710 (+/-0.038) for {'n_neighbors': 5, 'weights': 'uniform'}\n",
        "0.710 (+/-0.038) for {'n_neighbors': 5, 'weights': 'distance'}\n",
        "0.694 (+/-0.023) for {'n_neighbors': 9, 'weights': 'uniform'}\n",
        "0.694 (+/-0.023) for {'n_neighbors': 9, 'weights': 'distance'}\n",
        "0.708 (+/-0.035) for {'n_neighbors': 15, 'weights': 'uniform'}\n",
        "0.708 (+/-0.035) for {'n_neighbors': 15, 'weights': 'distance'}\n",
        "0.710 (+/-0.033) for {'n_neighbors': 25, 'weights': 'uniform'}\n",
        "0.710 (+/-0.033) for {'n_neighbors': 25, 'weights': 'distance'}\n",
        "0.706 (+/-0.024) for {'n_neighbors': 35, 'weights': 'uniform'}\n",
        "0.706 (+/-0.024) for {'n_neighbors': 35, 'weights': 'distance'}\n",
        "0.698 (+/-0.022) for {'n_neighbors': 45, 'weights': 'uniform'}\n",
        "0.698 (+/-0.022) for {'n_neighbors': 45, 'weights': 'distance'}\n",
        "0.694 (+/-0.020) for {'n_neighbors': 55, 'weights': 'uniform'}\n",
        "0.694 (+/-0.020) for {'n_neighbors': 55, 'weights': 'distance'}\n",
        "0.692 (+/-0.018) for {'n_neighbors': 65, 'weights': 'uniform'}\n",
        "0.692 (+/-0.018) for {'n_neighbors': 65, 'weights': 'distance'}\n",
        "()\n",
        "Detailed classification report:\n",
        "()\n",
        "The model is trained on the full development set.\n",
        "The scores are computed on the full evaluation set.\n",
        "()\n",
        "             precision    recall  f1-score   support\n",
        "\n",
        "        0.0       0.74      0.56      0.63       140\n",
        "        1.0       0.71      0.84      0.77       180\n",
        "\n",
        "avg / total       0.72      0.72      0.71       320\n"
       ]
      },
      {
       "output_type": "stream",
       "stream": "stdout",
       "text": [
        "\n",
        "()\n",
        "# Tuning hyper-parameters for f1\n",
        "()\n",
        "Best parameters set found on development set:"
       ]
      },
      {
       "output_type": "stream",
       "stream": "stdout",
       "text": [
        "\n",
        "()\n",
        "KNeighborsClassifier(algorithm='auto', leaf_size=30, metric='minkowski',\n",
        "           metric_params=None, n_neighbors=35, p=2, weights='uniform')\n",
        "()\n",
        "Grid scores on development set:\n",
        "()\n",
        "0.771 (+/-0.031) for {'n_neighbors': 5, 'weights': 'uniform'}\n",
        "0.771 (+/-0.031) for {'n_neighbors': 5, 'weights': 'distance'}\n",
        "0.764 (+/-0.019) for {'n_neighbors': 9, 'weights': 'uniform'}\n",
        "0.764 (+/-0.019) for {'n_neighbors': 9, 'weights': 'distance'}\n",
        "0.782 (+/-0.024) for {'n_neighbors': 15, 'weights': 'uniform'}\n",
        "0.782 (+/-0.024) for {'n_neighbors': 15, 'weights': 'distance'}\n",
        "0.789 (+/-0.020) for {'n_neighbors': 25, 'weights': 'uniform'}\n",
        "0.789 (+/-0.020) for {'n_neighbors': 25, 'weights': 'distance'}\n",
        "0.793 (+/-0.014) for {'n_neighbors': 35, 'weights': 'uniform'}\n",
        "0.793 (+/-0.014) for {'n_neighbors': 35, 'weights': 'distance'}\n",
        "0.791 (+/-0.014) for {'n_neighbors': 45, 'weights': 'uniform'}\n",
        "0.791 (+/-0.014) for {'n_neighbors': 45, 'weights': 'distance'}\n",
        "0.792 (+/-0.012) for {'n_neighbors': 55, 'weights': 'uniform'}\n",
        "0.792 (+/-0.012) for {'n_neighbors': 55, 'weights': 'distance'}\n",
        "0.792 (+/-0.010) for {'n_neighbors': 65, 'weights': 'uniform'}\n",
        "0.792 (+/-0.010) for {'n_neighbors': 65, 'weights': 'distance'}\n",
        "()\n",
        "Detailed classification report:\n",
        "()\n",
        "The model is trained on the full development set.\n",
        "The scores are computed on the full evaluation set.\n",
        "()\n",
        "             precision    recall  f1-score   support\n",
        "\n",
        "        0.0       0.93      0.41      0.57       140\n",
        "        1.0       0.68      0.98      0.80       180\n",
        "\n",
        "avg / total       0.79      0.73      0.70       320\n"
       ]
      },
      {
       "output_type": "stream",
       "stream": "stdout",
       "text": [
        "\n",
        "()\n"
       ]
      }
     ],
     "prompt_number": 55
    },
    {
     "cell_type": "code",
     "collapsed": false,
     "input": [
      "# Confusion matrix\n",
      "model = neighbors.KNeighborsClassifier(n_neighbors=35)\n",
      "model.fit(X_train, y_train)\n",
      "y_pred = model.predict(X_test)\n",
      "cm = confusion_matrix(y_test, y_pred)\n",
      "print cm\n",
      "\n",
      "# Show confusion matrix\n",
      "plt.matshow(cm)\n",
      "plt.title('Confusion matrix')\n",
      "plt.colorbar()\n",
      "plt.ylabel('True label')\n",
      "plt.xlabel('Predicted label')\n",
      "plt.show()"
     ],
     "language": "python",
     "metadata": {},
     "outputs": [
      {
       "output_type": "stream",
       "stream": "stdout",
       "text": [
        "[[ 57  83]\n",
        " [  4 176]]\n"
       ]
      },
      {
       "metadata": {},
       "output_type": "display_data",
       "png": "[encoded data removed]",
       "text": [
        "<matplotlib.figure.Figure at 0x10044d450>"
       ]
      }
     ],
     "prompt_number": 56
    },
    {
     "cell_type": "code",
     "collapsed": false,
     "input": [
      "# Predict X_mystery using the best hyper parameter\n",
      "model = neighbors.KNeighborsClassifier(n_neighbors=35)\n",
      "model.fit(X, y)\n",
      "y_pred = model.predict(X_mystery)"
     ],
     "language": "python",
     "metadata": {},
     "outputs": [],
     "prompt_number": 57
    },
    {
     "cell_type": "code",
     "collapsed": false,
     "input": [
      "# Save the predicted labels\n",
      "dump_svmlight_file(X_mystery, y_pred, 'ngarneau-knn-35-scaled')"
     ],
     "language": "python",
     "metadata": {},
     "outputs": [],
     "prompt_number": 59
    },
    {
     "cell_type": "code",
     "collapsed": false,
     "input": [
      "from sklearn.ensemble import BaggingClassifier\n",
      "\n",
      "bagging = BaggingClassifier(neighbors.KNeighborsClassifier(n_neighbors=35), n_estimators=100, max_samples=0.5, max_features=0.2)\n",
      "scores = cross_validation.cross_val_score(bagging, X, y, verbose=3, cv=10)\n",
      "\n",
      "print scores\n",
      "print scores.mean()"
     ],
     "language": "python",
     "metadata": {},
     "outputs": [
      {
       "output_type": "stream",
       "stream": "stdout",
       "text": [
        "[CV] no parameters to be set .........................................\n",
        "[CV] ................ no parameters to be set, score=0.592593 -   0.6s"
       ]
      },
      {
       "output_type": "stream",
       "stream": "stdout",
       "text": [
        "\n",
        "[CV] no parameters to be set .........................................\n",
        "[CV] ................ no parameters to be set, score=0.617284 -   0.7s"
       ]
      },
      {
       "output_type": "stream",
       "stream": "stdout",
       "text": [
        "\n",
        "[CV] no parameters to be set .........................................\n",
        "[CV] ................ no parameters to be set, score=0.617284 -   0.6s"
       ]
      },
      {
       "output_type": "stream",
       "stream": "stdout",
       "text": [
        "\n",
        "[CV] no parameters to be set .........................................\n",
        "[CV] ................ no parameters to be set, score=0.587500 -   0.6s"
       ]
      },
      {
       "output_type": "stream",
       "stream": "stdout",
       "text": [
        "\n",
        "[CV] no parameters to be set .........................................\n",
        "[CV] ................ no parameters to be set, score=0.587500 -   0.6s"
       ]
      },
      {
       "output_type": "stream",
       "stream": "stdout",
       "text": [
        "\n",
        "[CV] no parameters to be set .........................................\n",
        "[CV] ................ no parameters to be set, score=0.587500 -   0.6s"
       ]
      },
      {
       "output_type": "stream",
       "stream": "stdout",
       "text": [
        "\n",
        "[CV] no parameters to be set .........................................\n",
        "[CV] ................ no parameters to be set, score=0.587500 -   0.6s"
       ]
      },
      {
       "output_type": "stream",
       "stream": "stdout",
       "text": [
        "\n",
        "[CV] no parameters to be set .........................................\n",
        "[CV] ................ no parameters to be set, score=0.607595 -   0.6s"
       ]
      },
      {
       "output_type": "stream",
       "stream": "stdout",
       "text": [
        "\n",
        "[CV] no parameters to be set .........................................\n",
        "[CV] ................ no parameters to be set, score=0.582278 -   0.6s"
       ]
      },
      {
       "output_type": "stream",
       "stream": "stdout",
       "text": [
        "\n",
        "[CV] no parameters to be set .........................................\n",
        "[CV] ................ no parameters to be set, score=0.620253 -   0.6s"
       ]
      },
      {
       "output_type": "stream",
       "stream": "stderr",
       "text": [
        "[Parallel(n_jobs=1)]: Done   1 jobs       | elapsed:    0.6s\n",
        "[Parallel(n_jobs=1)]: Done  10 out of  10 | elapsed:    6.3s finished\n"
       ]
      },
      {
       "output_type": "stream",
       "stream": "stdout",
       "text": [
        "\n",
        "[ 0.59259259  0.61728395  0.61728395  0.5875      0.5875      0.5875\n",
        "  0.5875      0.60759494  0.58227848  0.62025316]\n",
        "0.598728707611\n"
       ]
      }
     ],
     "prompt_number": 60
    },
    {
     "cell_type": "code",
     "collapsed": false,
     "input": [
      "bagging.fit(X, y)\n",
      "y_pred = bagging.predict(X_mystery)\n",
      "\n",
      "# Save the predicted labels\n",
      "dump_svmlight_file(X_mystery, y_pred, 'bagging-knn-35')"
     ],
     "language": "python",
     "metadata": {},
     "outputs": [],
     "prompt_number": 61
    },
    {
     "cell_type": "code",
     "collapsed": false,
     "input": [],
     "language": "python",
     "metadata": {},
     "outputs": []
    }
   ],
   "metadata": {}
  }
 ]
}