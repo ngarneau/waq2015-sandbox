{
 "metadata": {
  "name": "",
  "signature": "sha256:450c7b0da4f47f756fb49626fa7756cfd2eabbea02a856416cf253fd0171a5b0"
 },
 "nbformat": 3,
 "nbformat_minor": 0,
 "worksheets": [
  {
   "cells": [
    {
     "cell_type": "code",
     "collapsed": false,
     "input": [
      "import numpy as np\n",
      "\n",
      "# Utilities\n",
      "from sklearn.datasets import load_svmlight_file\n",
      "from sklearn.datasets import dump_svmlight_file\n",
      "\n",
      "# Premodel\n",
      "from sklearn import preprocessing\n",
      "\n",
      "# Model\n",
      "from sklearn import neighbors\n",
      "\n",
      "# Cross validation\n",
      "from sklearn import cross_validation\n",
      "from sklearn.cross_validation import train_test_split\n",
      "from sklearn.grid_search import GridSearchCV\n",
      "\n",
      "# Metrics\n",
      "from sklearn.metrics import classification_report\n",
      "\n",
      "# Plot\n",
      "import matplotlib.pyplot as plt\n",
      "from matplotlib.colors import ListedColormap\n",
      "%matplotlib inline"
     ],
     "language": "python",
     "metadata": {},
     "outputs": [],
     "prompt_number": 1
    },
    {
     "cell_type": "code",
     "collapsed": false,
     "input": [
      "# Load necessary datasets\n",
      "X, y = load_svmlight_file(\"../dataset/dataset\")\n",
      "X_mystery, y_mystery = load_svmlight_file(\"../dataset/mystery\")"
     ],
     "language": "python",
     "metadata": {},
     "outputs": [],
     "prompt_number": 38
    },
    {
     "cell_type": "code",
     "collapsed": false,
     "input": [
      "#-------\n",
      "# Preprocess the data\n",
      "# We can perform several preprocessing steps on our dataset.\n",
      "# Here is one example of scaling the dataset.\n",
      "#-------\n",
      "print X.toarray()[0][:20]\n",
      "\n",
      "scaler = preprocessing.StandardScaler().fit(X.toarray())\n",
      "X = scaler.transform(X.toarray())\n",
      "X_mystery = scaler.transform(X_mystery.toarray())\n",
      "\n",
      "print X"
     ],
     "language": "python",
     "metadata": {},
     "outputs": []
    },
    {
     "cell_type": "code",
     "collapsed": false,
     "input": [
      "#--------\n",
      "# Grid search\n",
      "# Search for the best hyper-parameters for our model.\n",
      "# In our case we test for the number of neighbors and the weights picked by the algorithm.\n",
      "#--------\n",
      "tuned_parameters = [{'n_neighbors': [5, 9, 15, 25, 35, 45], 'weights': ['uniform', 'distance']}]\n",
      "X_train, X_test, y_train, y_test = cross_validation.train_test_split(X, y, test_size=0.4, random_state=0)\n",
      "\n",
      "def cross_val():\n",
      "    scores = ['accuracy', 'f1']\n",
      "    for score in scores:\n",
      "        print(\"# Tuning hyper-parameters for %s\" % score)\n",
      "        print()\n",
      "\n",
      "        clf = GridSearchCV(neighbors.KNeighborsClassifier(), tuned_parameters, cv=5, scoring=score)\n",
      "        clf.fit(X_train, y_train)\n",
      "\n",
      "        print(\"Best parameters set found on development set:\")\n",
      "        print()\n",
      "        print(clf.best_estimator_)\n",
      "        print()\n",
      "        print(\"Grid scores on development set:\")\n",
      "        print()\n",
      "        for params, mean_score, scores in clf.grid_scores_:\n",
      "            print(\"%0.3f (+/-%0.03f) for %r\"\n",
      "                  % (mean_score, scores.std() / 2, params))\n",
      "        print()\n",
      "\n",
      "        print(\"Detailed classification report:\")\n",
      "        print()\n",
      "        print(\"The model is trained on the full development set.\")\n",
      "        print(\"The scores are computed on the full evaluation set.\")\n",
      "        print()\n",
      "        y_true, y_pred = y_test, clf.predict(X_test)\n",
      "        print(classification_report(y_true, y_pred))\n",
      "        print()\n",
      "    \n",
      "cross_val()"
     ],
     "language": "python",
     "metadata": {},
     "outputs": [
      {
       "output_type": "stream",
       "stream": "stdout",
       "text": [
        "# Tuning hyper-parameters for accuracy\n",
        "()\n",
        "Best parameters set found on development set:"
       ]
      },
      {
       "output_type": "stream",
       "stream": "stdout",
       "text": [
        "\n",
        "()\n",
        "KNeighborsClassifier(algorithm='auto', leaf_size=30, metric='minkowski',\n",
        "           metric_params=None, n_neighbors=25, p=2, weights='uniform')\n",
        "()\n",
        "Grid scores on development set:\n",
        "()\n",
        "0.662 (+/-0.001) for {'n_neighbors': 5, 'weights': 'uniform'}\n",
        "0.662 (+/-0.001) for {'n_neighbors': 5, 'weights': 'distance'}\n",
        "0.685 (+/-0.031) for {'n_neighbors': 9, 'weights': 'uniform'}\n",
        "0.685 (+/-0.031) for {'n_neighbors': 9, 'weights': 'distance'}\n",
        "0.708 (+/-0.028) for {'n_neighbors': 15, 'weights': 'uniform'}\n",
        "0.708 (+/-0.028) for {'n_neighbors': 15, 'weights': 'distance'}\n",
        "0.715 (+/-0.018) for {'n_neighbors': 25, 'weights': 'uniform'}\n",
        "0.715 (+/-0.018) for {'n_neighbors': 25, 'weights': 'distance'}\n",
        "0.710 (+/-0.013) for {'n_neighbors': 35, 'weights': 'uniform'}\n",
        "0.710 (+/-0.013) for {'n_neighbors': 35, 'weights': 'distance'}\n",
        "0.700 (+/-0.019) for {'n_neighbors': 45, 'weights': 'uniform'}\n",
        "0.700 (+/-0.019) for {'n_neighbors': 45, 'weights': 'distance'}\n",
        "()\n",
        "Detailed classification report:\n",
        "()\n",
        "The model is trained on the full development set.\n",
        "The scores are computed on the full evaluation set.\n",
        "()\n",
        "             precision    recall  f1-score   support\n",
        "\n",
        "        0.0       0.92      0.49      0.64       140\n",
        "        1.0       0.71      0.97      0.82       180\n",
        "\n",
        "avg / total       0.80      0.76      0.74       320\n"
       ]
      },
      {
       "output_type": "stream",
       "stream": "stdout",
       "text": [
        "\n",
        "()\n",
        "# Tuning hyper-parameters for f1\n",
        "()\n",
        "Best parameters set found on development set:"
       ]
      },
      {
       "output_type": "stream",
       "stream": "stdout",
       "text": [
        "\n",
        "()\n",
        "KNeighborsClassifier(algorithm='auto', leaf_size=30, metric='minkowski',\n",
        "           metric_params=None, n_neighbors=35, p=2, weights='uniform')\n",
        "()\n",
        "Grid scores on development set:\n",
        "()\n",
        "0.734 (+/-0.005) for {'n_neighbors': 5, 'weights': 'uniform'}\n",
        "0.734 (+/-0.005) for {'n_neighbors': 5, 'weights': 'distance'}\n",
        "0.761 (+/-0.022) for {'n_neighbors': 9, 'weights': 'uniform'}\n",
        "0.761 (+/-0.022) for {'n_neighbors': 9, 'weights': 'distance'}\n",
        "0.784 (+/-0.018) for {'n_neighbors': 15, 'weights': 'uniform'}\n",
        "0.784 (+/-0.018) for {'n_neighbors': 15, 'weights': 'distance'}\n",
        "0.794 (+/-0.010) for {'n_neighbors': 25, 'weights': 'uniform'}\n",
        "0.794 (+/-0.010) for {'n_neighbors': 25, 'weights': 'distance'}\n",
        "0.796 (+/-0.008) for {'n_neighbors': 35, 'weights': 'uniform'}\n",
        "0.796 (+/-0.008) for {'n_neighbors': 35, 'weights': 'distance'}\n",
        "0.793 (+/-0.012) for {'n_neighbors': 45, 'weights': 'uniform'}\n",
        "0.793 (+/-0.012) for {'n_neighbors': 45, 'weights': 'distance'}\n",
        "()\n",
        "Detailed classification report:\n",
        "()\n",
        "The model is trained on the full development set.\n",
        "The scores are computed on the full evaluation set.\n",
        "()\n",
        "             precision    recall  f1-score   support\n",
        "\n",
        "        0.0       0.94      0.43      0.59       140\n",
        "        1.0       0.69      0.98      0.81       180\n",
        "\n",
        "avg / total       0.80      0.74      0.71       320\n"
       ]
      },
      {
       "output_type": "stream",
       "stream": "stdout",
       "text": [
        "\n",
        "()\n"
       ]
      }
     ],
     "prompt_number": 33
    },
    {
     "cell_type": "code",
     "collapsed": false,
     "input": [
      "#--------\n",
      "# Predict\n",
      "# Use the whole dataset to train then predict the label on the mystery dataset\n",
      "# Save the predicted values into svmlight format.\n",
      "#--------\n",
      "model = neighbors.KNeighborsClassifier(n_neighbors=35)\n",
      "model.fit(X, y)\n",
      "y_pred = model.predict(X_mystery)\n",
      "dump_svmlight_file(X_mystery, y_pred, 'knn-35')"
     ],
     "language": "python",
     "metadata": {},
     "outputs": [],
     "prompt_number": 34
    },
    {
     "cell_type": "code",
     "collapsed": false,
     "input": [],
     "language": "python",
     "metadata": {},
     "outputs": []
    }
   ],
   "metadata": {}
  }
 ]
}