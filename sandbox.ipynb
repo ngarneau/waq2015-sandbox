{
 "metadata": {
  "name": "",
  "signature": "sha256:8281b85422aae49182723b4f690bdca667351eae33a28c1c682d0ae6c9e3d69c"
 },
 "nbformat": 3,
 "nbformat_minor": 0,
 "worksheets": [
  {
   "cells": [
    {
     "cell_type": "code",
     "collapsed": false,
     "input": [
      "import numpy as np\n",
      "\n",
      "# Utilities\n",
      "from sklearn.datasets import load_svmlight_file\n",
      "from sklearn.datasets import dump_svmlight_file\n",
      "\n",
      "# Premodel\n",
      "from sklearn import preprocessing\n",
      "\n",
      "# Model\n",
      "from sklearn import neighbors\n",
      "\n",
      "# Cross validation\n",
      "from sklearn import cross_validation\n",
      "from sklearn.cross_validation import train_test_split\n",
      "from sklearn.grid_search import GridSearchCV\n",
      "\n",
      "# Metrics\n",
      "from sklearn.metrics import classification_report\n",
      "\n",
      "# Plot\n",
      "import matplotlib.pyplot as plt\n",
      "from matplotlib.colors import ListedColormap\n",
      "%matplotlib inline"
     ],
     "language": "python",
     "metadata": {},
     "outputs": [],
     "prompt_number": 1
    },
    {
     "cell_type": "code",
     "collapsed": false,
     "input": [
      "# Load necessary datasets\n",
      "X, y = load_svmlight_file(\"../dataset/dataset\")\n",
      "X_mystery, y_mystery = load_svmlight_file(\"../dataset/mystery\")"
     ],
     "language": "python",
     "metadata": {},
     "outputs": [],
     "prompt_number": 9
    },
    {
     "cell_type": "code",
     "collapsed": false,
     "input": [
      "#-------\n",
      "# Preprocess the data\n",
      "# We can perform several preprocessing steps on our dataset.\n",
      "# Here is one example of scaling the dataset.\n",
      "# See also:\n",
      "#    http://scikit-learn.org/stable/modules/preprocessing.html#normalization\n",
      "#-------\n",
      "print X.toarray()[0][:20]\n",
      "\n",
      "X = preprocessing.StandardScaler().fit_transform(X.toarray())\n",
      "\n",
      "X_mystery = preprocessing.StandardScaler().fit_transform(X_mystery.toarray())\n",
      "\n",
      "print X[0][:20]"
     ],
     "language": "python",
     "metadata": {},
     "outputs": [
      {
       "output_type": "stream",
       "stream": "stdout",
       "text": [
        "[ 10.30460194  -7.27004174   4.00449091 -20.12969229  -1.47377388\n",
        "   1.84316749   1.89318571   5.32598192   4.01145829   0.19163751\n",
        " -18.86281754  10.41091342  18.65618308   4.10834194   5.42246745\n",
        "   5.32677559  -6.8134092    6.13241994  -6.0163422    1.71205763]\n",
        "[ 0.60202285 -0.94973283  0.37260474 -1.13634653 -0.53981112  1.12620062\n",
        "  0.5365634   0.2831259   0.3493215   1.49822205 -1.58684788  1.33332776\n",
        "  2.62875707  0.64907899  1.33427543  1.13862792 -0.45142842  0.81958871\n",
        " -0.89672893  0.32242811]\n"
       ]
      }
     ],
     "prompt_number": 10
    },
    {
     "cell_type": "code",
     "collapsed": false,
     "input": [
      "#--------\n",
      "# Simple validation\n",
      "# using train and test sets\n",
      "#--------\n",
      "model = neighbors.KNeighborsClassifier(n_neighbors=35)\n",
      "X_train, X_test, y_train, y_test = cross_validation.train_test_split(X, y, test_size=0.4, random_state=0)\n",
      "model.fit(X_train, y_train)\n",
      "print model.score(X_test, y_test)"
     ],
     "language": "python",
     "metadata": {},
     "outputs": [
      {
       "output_type": "stream",
       "stream": "stdout",
       "text": [
        "0.7375\n"
       ]
      }
     ],
     "prompt_number": 11
    },
    {
     "cell_type": "code",
     "collapsed": false,
     "input": [
      "#--------\n",
      "# Cross validation\n",
      "#--------\n",
      "model = neighbors.KNeighborsClassifier(n_neighbors=35, weights='distance')\n",
      "scores = cross_validation.cross_val_score(model, X, y, verbose=3, cv=10)\n",
      "print scores\n",
      "print scores.mean()"
     ],
     "language": "python",
     "metadata": {},
     "outputs": [
      {
       "output_type": "stream",
       "stream": "stdout",
       "text": [
        "[CV] no parameters to be set .........................................\n",
        "[CV] ................ no parameters to be set, score=0.740741 -   0.0s\n",
        "[CV] no parameters to be set .........................................\n",
        "[CV] ................ no parameters to be set, score=0.814815 -   0.0s"
       ]
      },
      {
       "output_type": "stream",
       "stream": "stdout",
       "text": [
        "\n",
        "[CV] no parameters to be set .........................................\n",
        "[CV] ................ no parameters to be set, score=0.629630 -   0.1s"
       ]
      },
      {
       "output_type": "stream",
       "stream": "stdout",
       "text": [
        "\n",
        "[CV] no parameters to be set .........................................\n",
        "[CV] ................ no parameters to be set, score=0.700000 -   0.0s\n",
        "[CV] no parameters to be set .........................................\n",
        "[CV] ................ no parameters to be set, score=0.800000 -   0.0s"
       ]
      },
      {
       "output_type": "stream",
       "stream": "stdout",
       "text": [
        "\n",
        "[CV] no parameters to be set .........................................\n",
        "[CV] ................ no parameters to be set, score=0.737500 -   0.0s\n",
        "[CV] no parameters to be set .........................................\n",
        "[CV] ................ no parameters to be set, score=0.675000 -   0.0s"
       ]
      },
      {
       "output_type": "stream",
       "stream": "stdout",
       "text": [
        "\n",
        "[CV] no parameters to be set .........................................\n",
        "[CV] ................ no parameters to be set, score=0.708861 -   0.0s\n",
        "[CV] no parameters to be set .........................................\n",
        "[CV] ................ no parameters to be set, score=0.784810 -   0.0s"
       ]
      },
      {
       "output_type": "stream",
       "stream": "stdout",
       "text": [
        "\n",
        "[CV] no parameters to be set .........................................\n",
        "[CV] ................ no parameters to be set, score=0.810127 -   0.1s"
       ]
      },
      {
       "output_type": "stream",
       "stream": "stderr",
       "text": [
        "[Parallel(n_jobs=1)]: Done   1 jobs       | elapsed:    0.0s\n",
        "[Parallel(n_jobs=1)]: Done  10 out of  10 | elapsed:    0.4s finished\n"
       ]
      },
      {
       "output_type": "stream",
       "stream": "stdout",
       "text": [
        "\n",
        "[ 0.74074074  0.81481481  0.62962963  0.7         0.8         0.7375      0.675\n",
        "  0.70886076  0.78481013  0.81012658]\n",
        "0.740148265354\n"
       ]
      }
     ],
     "prompt_number": 12
    },
    {
     "cell_type": "code",
     "collapsed": false,
     "input": [
      "#--------\n",
      "# Grid search\n",
      "# Search for the best hyper-parameters for our model.\n",
      "# In our case we test for the number of neighbors and the weights picked by the algorithm.\n",
      "#--------\n",
      "tuned_parameters = [{'n_neighbors': [5, 9, 15, 25, 35, 45], 'weights': ['uniform', 'distance']}]\n",
      "X_train, X_test, y_train, y_test = cross_validation.train_test_split(X, y, test_size=0.4, random_state=0)\n",
      "\n",
      "def cross_val():\n",
      "    scores = ['accuracy', 'f1']\n",
      "    for score in scores:\n",
      "        print(\"# Tuning hyper-parameters for %s\" % score)\n",
      "        print()\n",
      "\n",
      "        clf = GridSearchCV(neighbors.KNeighborsClassifier(), tuned_parameters, cv=5, scoring=score)\n",
      "        clf.fit(X_train, y_train)\n",
      "\n",
      "        print(\"Best parameters set found on development set:\")\n",
      "        print()\n",
      "        print(clf.best_estimator_)\n",
      "        print()\n",
      "        print(\"Grid scores on development set:\")\n",
      "        print()\n",
      "        for params, mean_score, scores in clf.grid_scores_:\n",
      "            print(\"%0.3f (+/-%0.03f) for %r\"\n",
      "                  % (mean_score, scores.std() / 2, params))\n",
      "        print()\n",
      "\n",
      "        print(\"Detailed classification report:\")\n",
      "        print()\n",
      "        print(\"The model is trained on the full development set.\")\n",
      "        print(\"The scores are computed on the full evaluation set.\")\n",
      "        print()\n",
      "        y_true, y_pred = y_test, clf.predict(X_test)\n",
      "        print(classification_report(y_true, y_pred))\n",
      "        print()\n",
      "    \n",
      "cross_val()"
     ],
     "language": "python",
     "metadata": {},
     "outputs": [
      {
       "output_type": "stream",
       "stream": "stdout",
       "text": [
        "# Tuning hyper-parameters for accuracy\n",
        "()\n",
        "Best parameters set found on development set:"
       ]
      },
      {
       "output_type": "stream",
       "stream": "stdout",
       "text": [
        "\n",
        "()\n",
        "KNeighborsClassifier(algorithm='auto', leaf_size=30, metric='minkowski',\n",
        "           metric_params=None, n_neighbors=25, p=2, weights='uniform')\n",
        "()\n",
        "Grid scores on development set:\n",
        "()\n",
        "0.662 (+/-0.001) for {'n_neighbors': 5, 'weights': 'uniform'}\n",
        "0.662 (+/-0.001) for {'n_neighbors': 5, 'weights': 'distance'}\n",
        "0.685 (+/-0.031) for {'n_neighbors': 9, 'weights': 'uniform'}\n",
        "0.685 (+/-0.031) for {'n_neighbors': 9, 'weights': 'distance'}\n",
        "0.708 (+/-0.028) for {'n_neighbors': 15, 'weights': 'uniform'}\n",
        "0.708 (+/-0.028) for {'n_neighbors': 15, 'weights': 'distance'}\n",
        "0.715 (+/-0.018) for {'n_neighbors': 25, 'weights': 'uniform'}\n",
        "0.715 (+/-0.018) for {'n_neighbors': 25, 'weights': 'distance'}\n",
        "0.710 (+/-0.013) for {'n_neighbors': 35, 'weights': 'uniform'}\n",
        "0.710 (+/-0.013) for {'n_neighbors': 35, 'weights': 'distance'}\n",
        "0.700 (+/-0.019) for {'n_neighbors': 45, 'weights': 'uniform'}\n",
        "0.700 (+/-0.019) for {'n_neighbors': 45, 'weights': 'distance'}\n",
        "()\n",
        "Detailed classification report:\n",
        "()\n",
        "The model is trained on the full development set.\n",
        "The scores are computed on the full evaluation set.\n",
        "()\n",
        "             precision    recall  f1-score   support\n",
        "\n",
        "        0.0       0.92      0.49      0.64       140\n",
        "        1.0       0.71      0.97      0.82       180\n",
        "\n",
        "avg / total       0.80      0.76      0.74       320\n"
       ]
      },
      {
       "output_type": "stream",
       "stream": "stdout",
       "text": [
        "\n",
        "()\n",
        "# Tuning hyper-parameters for f1\n",
        "()\n",
        "Best parameters set found on development set:"
       ]
      },
      {
       "output_type": "stream",
       "stream": "stdout",
       "text": [
        "\n",
        "()\n",
        "KNeighborsClassifier(algorithm='auto', leaf_size=30, metric='minkowski',\n",
        "           metric_params=None, n_neighbors=35, p=2, weights='uniform')\n",
        "()\n",
        "Grid scores on development set:\n",
        "()\n",
        "0.734 (+/-0.005) for {'n_neighbors': 5, 'weights': 'uniform'}\n",
        "0.734 (+/-0.005) for {'n_neighbors': 5, 'weights': 'distance'}\n",
        "0.761 (+/-0.022) for {'n_neighbors': 9, 'weights': 'uniform'}\n",
        "0.761 (+/-0.022) for {'n_neighbors': 9, 'weights': 'distance'}\n",
        "0.784 (+/-0.018) for {'n_neighbors': 15, 'weights': 'uniform'}\n",
        "0.784 (+/-0.018) for {'n_neighbors': 15, 'weights': 'distance'}\n",
        "0.794 (+/-0.010) for {'n_neighbors': 25, 'weights': 'uniform'}\n",
        "0.794 (+/-0.010) for {'n_neighbors': 25, 'weights': 'distance'}\n",
        "0.796 (+/-0.008) for {'n_neighbors': 35, 'weights': 'uniform'}\n",
        "0.796 (+/-0.008) for {'n_neighbors': 35, 'weights': 'distance'}\n",
        "0.793 (+/-0.012) for {'n_neighbors': 45, 'weights': 'uniform'}\n",
        "0.793 (+/-0.012) for {'n_neighbors': 45, 'weights': 'distance'}\n",
        "()\n",
        "Detailed classification report:\n",
        "()\n",
        "The model is trained on the full development set.\n",
        "The scores are computed on the full evaluation set.\n",
        "()\n",
        "             precision    recall  f1-score   support\n",
        "\n",
        "        0.0       0.94      0.43      0.59       140\n",
        "        1.0       0.69      0.98      0.81       180\n",
        "\n",
        "avg / total       0.80      0.74      0.71       320\n"
       ]
      },
      {
       "output_type": "stream",
       "stream": "stdout",
       "text": [
        "\n",
        "()\n"
       ]
      }
     ],
     "prompt_number": 13
    },
    {
     "cell_type": "code",
     "collapsed": false,
     "input": [
      "# Predict using the best hyper parameter\n",
      "model = neighbors.KNeighborsClassifier(n_neighbors=35)\n",
      "model.fit(X, y)\n",
      "y_pred = model.predict(X_mystery)\n",
      "\n",
      "# Save the predicted labels\n",
      "dump_svmlight_file(X_mystery, y_pred, 'ngarneau-scaled')"
     ],
     "language": "python",
     "metadata": {},
     "outputs": [],
     "prompt_number": 14
    },
    {
     "cell_type": "code",
     "collapsed": false,
     "input": [
      "from sklearn.ensemble import BaggingClassifier\n",
      "\n",
      "bagging = BaggingClassifier(neighbors.KNeighborsClassifier(n_neighbors=35), n_estimators=100, max_samples=1.0, max_features=1.0)\n",
      "scores = cross_validation.cross_val_score(bagging, X, y, verbose=3, cv=10)\n",
      "\n",
      "print scores\n",
      "print scores.mean()"
     ],
     "language": "python",
     "metadata": {},
     "outputs": [
      {
       "output_type": "stream",
       "stream": "stdout",
       "text": [
        "[CV] no parameters to be set .........................................\n",
        "[CV] ................ no parameters to be set, score=0.777778 -   4.0s"
       ]
      },
      {
       "output_type": "stream",
       "stream": "stdout",
       "text": [
        "\n",
        "[CV] no parameters to be set ........................................."
       ]
      },
      {
       "output_type": "stream",
       "stream": "stdout",
       "text": [
        "\n",
        "[CV] ................ no parameters to be set, score=0.802469 -   3.7s"
       ]
      },
      {
       "output_type": "stream",
       "stream": "stdout",
       "text": [
        "\n",
        "[CV] no parameters to be set ........................................."
       ]
      },
      {
       "output_type": "stream",
       "stream": "stdout",
       "text": [
        "\n",
        "[CV] ................ no parameters to be set, score=0.617284 -   3.7s"
       ]
      },
      {
       "output_type": "stream",
       "stream": "stdout",
       "text": [
        "\n",
        "[CV] no parameters to be set ........................................."
       ]
      },
      {
       "output_type": "stream",
       "stream": "stdout",
       "text": [
        "\n",
        "[CV] ................ no parameters to be set, score=0.725000 -   3.8s"
       ]
      },
      {
       "output_type": "stream",
       "stream": "stdout",
       "text": [
        "\n",
        "[CV] no parameters to be set ........................................."
       ]
      },
      {
       "output_type": "stream",
       "stream": "stdout",
       "text": [
        "\n",
        "[CV] ................ no parameters to be set, score=0.825000 -   3.7s"
       ]
      },
      {
       "output_type": "stream",
       "stream": "stdout",
       "text": [
        "\n",
        "[CV] no parameters to be set ........................................."
       ]
      },
      {
       "output_type": "stream",
       "stream": "stdout",
       "text": [
        "\n",
        "[CV] ................ no parameters to be set, score=0.750000 -   3.6s"
       ]
      },
      {
       "output_type": "stream",
       "stream": "stdout",
       "text": [
        "\n",
        "[CV] no parameters to be set ........................................."
       ]
      },
      {
       "output_type": "stream",
       "stream": "stdout",
       "text": [
        "\n",
        "[CV] ................ no parameters to be set, score=0.662500 -   3.6s"
       ]
      },
      {
       "output_type": "stream",
       "stream": "stdout",
       "text": [
        "\n",
        "[CV] no parameters to be set ........................................."
       ]
      },
      {
       "output_type": "stream",
       "stream": "stdout",
       "text": [
        "\n",
        "[CV] ................ no parameters to be set, score=0.683544 -   3.7s"
       ]
      },
      {
       "output_type": "stream",
       "stream": "stdout",
       "text": [
        "\n",
        "[CV] no parameters to be set ........................................."
       ]
      },
      {
       "output_type": "stream",
       "stream": "stdout",
       "text": [
        "\n",
        "[CV] ................ no parameters to be set, score=0.772152 -   3.6s"
       ]
      },
      {
       "output_type": "stream",
       "stream": "stdout",
       "text": [
        "\n",
        "[CV] no parameters to be set ........................................."
       ]
      },
      {
       "output_type": "stream",
       "stream": "stdout",
       "text": [
        "\n",
        "[CV] ................ no parameters to be set, score=0.784810 -   3.6s"
       ]
      },
      {
       "output_type": "stream",
       "stream": "stderr",
       "text": [
        "[Parallel(n_jobs=1)]: Done   1 jobs       | elapsed:    4.0s\n",
        "[Parallel(n_jobs=1)]: Done  10 out of  10 | elapsed:   37.6s finished\n"
       ]
      },
      {
       "output_type": "stream",
       "stream": "stdout",
       "text": [
        "\n",
        "[ 0.77777778  0.80246914  0.61728395  0.725       0.825       0.75        0.6625\n",
        "  0.6835443   0.7721519   0.78481013]"
       ]
      },
      {
       "output_type": "stream",
       "stream": "stdout",
       "text": [
        "\n",
        "0.740053719331\n"
       ]
      }
     ],
     "prompt_number": 8
    },
    {
     "cell_type": "code",
     "collapsed": false,
     "input": [
      "bagging.fit(X, y)\n",
      "y_pred = bagging.predict(X_mystery)\n",
      "\n",
      "# Save the predicted labels\n",
      "dump_svmlight_file(X_mystery, y_pred, 'bagging-knn-35')"
     ],
     "language": "python",
     "metadata": {},
     "outputs": [],
     "prompt_number": 9
    },
    {
     "cell_type": "code",
     "collapsed": false,
     "input": [],
     "language": "python",
     "metadata": {},
     "outputs": []
    }
   ],
   "metadata": {}
  }
 ]
}