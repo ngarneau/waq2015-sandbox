{
 "metadata": {
  "name": "",
  "signature": "sha256:bbae3acf45d155bb8761010ed4cc5b28d031d0b36be542b1314d29941e878210"
 },
 "nbformat": 3,
 "nbformat_minor": 0,
 "worksheets": [
  {
   "cells": [
    {
     "cell_type": "code",
     "collapsed": false,
     "input": [
      "import numpy as np\n",
      "\n",
      "# Utilities\n",
      "from sklearn.datasets import load_svmlight_file\n",
      "from sklearn.datasets import dump_svmlight_file\n",
      "\n",
      "# Premodel\n",
      "from sklearn import preprocessing\n",
      "\n",
      "# Model\n",
      "from sklearn import svm\n",
      "\n",
      "# Cross validation\n",
      "from sklearn import cross_validation\n",
      "from sklearn.cross_validation import train_test_split\n",
      "from sklearn.grid_search import GridSearchCV\n",
      "\n",
      "# Metrics\n",
      "from sklearn.metrics import classification_report\n",
      "from sklearn.metrics import confusion_matrix\n",
      "\n",
      "# Plot\n",
      "import matplotlib.pyplot as plt\n",
      "from matplotlib.colors import ListedColormap\n",
      "%matplotlib inline"
     ],
     "language": "python",
     "metadata": {},
     "outputs": [],
     "prompt_number": 42
    },
    {
     "cell_type": "code",
     "collapsed": false,
     "input": [
      "# Load necessary datasets\n",
      "X, y = load_svmlight_file(\"../dataset/dataset\")\n",
      "X_mystery, y_mystery = load_svmlight_file(\"../dataset/mystery\")"
     ],
     "language": "python",
     "metadata": {},
     "outputs": [],
     "prompt_number": 43
    },
    {
     "cell_type": "code",
     "collapsed": false,
     "input": [
      "#-------\n",
      "# Preprocess the data\n",
      "# We can perform several preprocessing steps on our dataset.\n",
      "# Here is one example of scaling the dataset.\n",
      "# See also:\n",
      "#    http://scikit-learn.org/stable/modules/preprocessing.html#normalization\n",
      "#-------\n",
      "print X.toarray()[0][:20]\n",
      "\n",
      "min_max_scaler = preprocessing.MinMaxScaler()\n",
      "\n",
      "X = min_max_scaler.fit_transform(X.toarray())\n",
      "\n",
      "X_mystery = min_max_scaler.transform(X_mystery.toarray())\n",
      "\n",
      "print X[0][:20]"
     ],
     "language": "python",
     "metadata": {},
     "outputs": [
      {
       "output_type": "stream",
       "stream": "stdout",
       "text": [
        "[ 10.30460194  -7.27004174   4.00449091 -20.12969229  -1.47377388\n",
        "   1.84316749   1.89318571   5.32598192   4.01145829   0.19163751\n",
        " -18.86281754  10.41091342  18.65618308   4.10834194   5.42246745\n",
        "   5.32677559  -6.8134092    6.13241994  -6.0163422    1.71205763]\n",
        "[ 0.59184401  0.28537982  0.60632519  0.31609726  0.40444623  0.7159433\n",
        "  0.52465406  0.59993048  0.62302895  0.8248833   0.2710579   0.65586847\n",
        "  1.          0.56365311  0.73078767  0.73708978  0.38107206  0.63321984\n",
        "  0.38392825  0.47895971]"
       ]
      },
      {
       "output_type": "stream",
       "stream": "stdout",
       "text": [
        "\n"
       ]
      }
     ],
     "prompt_number": 44
    },
    {
     "cell_type": "code",
     "collapsed": false,
     "input": [
      "#--------\n",
      "# Simple validation\n",
      "# using train and test sets\n",
      "#--------\n",
      "model = svm.SVC()\n",
      "X_train, X_test, y_train, y_test = cross_validation.train_test_split(X, y, test_size=0.4)\n",
      "model.fit(X_train, y_train)\n",
      "print model.score(X_test, y_test)"
     ],
     "language": "python",
     "metadata": {},
     "outputs": [
      {
       "output_type": "stream",
       "stream": "stdout",
       "text": [
        "0.609375\n"
       ]
      }
     ],
     "prompt_number": 4
    },
    {
     "cell_type": "code",
     "collapsed": false,
     "input": [
      "#--------\n",
      "# Cross validation\n",
      "#--------\n",
      "model = svm.SVC()\n",
      "scores = cross_validation.cross_val_score(model, X, y, verbose=3, cv=10)\n",
      "print scores\n",
      "print scores.mean()"
     ],
     "language": "python",
     "metadata": {},
     "outputs": [
      {
       "output_type": "stream",
       "stream": "stdout",
       "text": [
        "[CV] no parameters to be set .........................................\n",
        "[CV] ................ no parameters to be set, score=0.580247 -   0.3s"
       ]
      },
      {
       "output_type": "stream",
       "stream": "stdout",
       "text": [
        "\n",
        "[CV] no parameters to be set .........................................\n",
        "[CV] ................ no parameters to be set, score=0.580247 -   0.2s"
       ]
      },
      {
       "output_type": "stream",
       "stream": "stdout",
       "text": [
        "\n",
        "[CV] no parameters to be set .........................................\n",
        "[CV] ................ no parameters to be set, score=0.580247 -   0.2s"
       ]
      },
      {
       "output_type": "stream",
       "stream": "stdout",
       "text": [
        "\n",
        "[CV] no parameters to be set .........................................\n",
        "[CV] ................ no parameters to be set, score=0.587500 -   0.2s"
       ]
      },
      {
       "output_type": "stream",
       "stream": "stdout",
       "text": [
        "\n",
        "[CV] no parameters to be set .........................................\n",
        "[CV] ................ no parameters to be set, score=0.587500 -   0.2s"
       ]
      },
      {
       "output_type": "stream",
       "stream": "stdout",
       "text": [
        "\n",
        "[CV] no parameters to be set .........................................\n",
        "[CV] ................ no parameters to be set, score=0.587500 -   0.2s"
       ]
      },
      {
       "output_type": "stream",
       "stream": "stdout",
       "text": [
        "\n",
        "[CV] no parameters to be set .........................................\n",
        "[CV] ................ no parameters to be set, score=0.587500 -   0.2s"
       ]
      },
      {
       "output_type": "stream",
       "stream": "stdout",
       "text": [
        "\n",
        "[CV] no parameters to be set .........................................\n",
        "[CV] ................ no parameters to be set, score=0.582278 -   0.2s"
       ]
      },
      {
       "output_type": "stream",
       "stream": "stdout",
       "text": [
        "\n",
        "[CV] no parameters to be set .........................................\n",
        "[CV] ................ no parameters to be set, score=0.582278 -   0.2s"
       ]
      },
      {
       "output_type": "stream",
       "stream": "stdout",
       "text": [
        "\n",
        "[CV] no parameters to be set .........................................\n",
        "[CV] ................ no parameters to be set, score=0.582278 -   0.2s"
       ]
      },
      {
       "output_type": "stream",
       "stream": "stderr",
       "text": [
        "[Parallel(n_jobs=1)]: Done   1 jobs       | elapsed:    0.4s\n",
        "[Parallel(n_jobs=1)]: Done  10 out of  10 | elapsed:    2.0s finished\n"
       ]
      },
      {
       "output_type": "stream",
       "stream": "stdout",
       "text": [
        "\n",
        "[ 0.58024691  0.58024691  0.58024691  0.5875      0.5875      0.5875\n",
        "  0.5875      0.58227848  0.58227848  0.58227848]\n",
        "0.583757618378\n"
       ]
      }
     ],
     "prompt_number": 45
    },
    {
     "cell_type": "code",
     "collapsed": false,
     "input": [
      "#--------\n",
      "# Grid search\n",
      "# Search for the best hyper-parameters for our model.\n",
      "# In our case we test for the number of neighbors and the weights picked by the algorithm.\n",
      "#--------\n",
      "tuned_parameters = [\n",
      "  {'C': [1, 10, 100, 1000], 'kernel': ['linear']},\n",
      "  {'C': [1, 10, 100, 1000], 'gamma': [0.001, 0.0001], 'kernel': ['rbf']},\n",
      "]\n",
      "X_train, X_test, y_train, y_test = cross_validation.train_test_split(X, y, test_size=0.4, random_state=0)\n",
      "\n",
      "def cross_val():\n",
      "    scores = ['accuracy', 'f1']\n",
      "    for score in scores:\n",
      "        print(\"# Tuning hyper-parameters for %s\" % score)\n",
      "        print()\n",
      "\n",
      "        clf = GridSearchCV(svm.SVC(), tuned_parameters, cv=10, scoring=score)\n",
      "        clf.fit(X_train, y_train)\n",
      "\n",
      "        print(\"Best parameters set found on development set:\")\n",
      "        print()\n",
      "        print(clf.best_estimator_)\n",
      "        print()\n",
      "        print(\"Grid scores on development set:\")\n",
      "        print()\n",
      "        for params, mean_score, scores in clf.grid_scores_:\n",
      "            print(\"%0.3f (+/-%0.03f) for %r\"\n",
      "                  % (mean_score, scores.std() / 2, params))\n",
      "        print()\n",
      "\n",
      "        print(\"Detailed classification report:\")\n",
      "        print()\n",
      "        print(\"The model is trained on the full development set.\")\n",
      "        print(\"The scores are computed on the full evaluation set.\")\n",
      "        print()\n",
      "        y_true, y_pred = y_test, clf.predict(X_test)\n",
      "        print(classification_report(y_true, y_pred))\n",
      "        print()\n",
      "    \n",
      "cross_val()"
     ],
     "language": "python",
     "metadata": {},
     "outputs": [
      {
       "output_type": "stream",
       "stream": "stdout",
       "text": [
        "# Tuning hyper-parameters for accuracy\n",
        "()\n",
        "Best parameters set found on development set:"
       ]
      },
      {
       "output_type": "stream",
       "stream": "stdout",
       "text": [
        "\n",
        "()\n",
        "SVC(C=1000, cache_size=200, class_weight=None, coef0=0.0, degree=3,\n",
        "  gamma=0.0001, kernel='rbf', max_iter=-1, probability=False,\n",
        "  random_state=None, shrinking=True, tol=0.001, verbose=False)\n",
        "()\n",
        "Grid scores on development set:\n",
        "()\n",
        "0.765 (+/-0.023) for {'kernel': 'linear', 'C': 1}\n",
        "0.752 (+/-0.022) for {'kernel': 'linear', 'C': 10}\n",
        "0.752 (+/-0.022) for {'kernel': 'linear', 'C': 100}\n",
        "0.752 (+/-0.022) for {'kernel': 'linear', 'C': 1000}\n",
        "0.598 (+/-0.003) for {'kernel': 'rbf', 'C': 1, 'gamma': 0.001}\n",
        "0.598 (+/-0.003) for {'kernel': 'rbf', 'C': 1, 'gamma': 0.0001}\n",
        "0.600 (+/-0.005) for {'kernel': 'rbf', 'C': 10, 'gamma': 0.001}\n",
        "0.598 (+/-0.003) for {'kernel': 'rbf', 'C': 10, 'gamma': 0.0001}\n",
        "0.796 (+/-0.020) for {'kernel': 'rbf', 'C': 100, 'gamma': 0.001}\n",
        "0.600 (+/-0.005) for {'kernel': 'rbf', 'C': 100, 'gamma': 0.0001}\n",
        "0.775 (+/-0.027) for {'kernel': 'rbf', 'C': 1000, 'gamma': 0.001}\n",
        "0.798 (+/-0.021) for {'kernel': 'rbf', 'C': 1000, 'gamma': 0.0001}\n",
        "()\n",
        "Detailed classification report:\n",
        "()\n",
        "The model is trained on the full development set.\n",
        "The scores are computed on the full evaluation set.\n",
        "()\n",
        "             precision    recall  f1-score   support\n",
        "\n",
        "        0.0       0.88      0.67      0.76       140\n",
        "        1.0       0.78      0.93      0.85       180\n",
        "\n",
        "avg / total       0.83      0.82      0.81       320\n",
        "\n",
        "()\n",
        "# Tuning hyper-parameters for f1\n",
        "()\n",
        "Best parameters set found on development set:"
       ]
      },
      {
       "output_type": "stream",
       "stream": "stdout",
       "text": [
        "\n",
        "()\n",
        "SVC(C=1000, cache_size=200, class_weight=None, coef0=0.0, degree=3,\n",
        "  gamma=0.0001, kernel='rbf', max_iter=-1, probability=False,\n",
        "  random_state=None, shrinking=True, tol=0.001, verbose=False)\n",
        "()\n",
        "Grid scores on development set:\n",
        "()\n",
        "0.801 (+/-0.019) for {'kernel': 'linear', 'C': 1}\n",
        "0.794 (+/-0.018) for {'kernel': 'linear', 'C': 10}\n",
        "0.794 (+/-0.018) for {'kernel': 'linear', 'C': 100}\n",
        "0.794 (+/-0.018) for {'kernel': 'linear', 'C': 1000}\n",
        "0.748 (+/-0.002) for {'kernel': 'rbf', 'C': 1, 'gamma': 0.001}\n",
        "0.748 (+/-0.002) for {'kernel': 'rbf', 'C': 1, 'gamma': 0.0001}\n",
        "0.749 (+/-0.003) for {'kernel': 'rbf', 'C': 10, 'gamma': 0.001}\n",
        "0.748 (+/-0.002) for {'kernel': 'rbf', 'C': 10, 'gamma': 0.0001}\n",
        "0.834 (+/-0.016) for {'kernel': 'rbf', 'C': 100, 'gamma': 0.001}\n",
        "0.749 (+/-0.003) for {'kernel': 'rbf', 'C': 100, 'gamma': 0.0001}\n",
        "0.812 (+/-0.023) for {'kernel': 'rbf', 'C': 1000, 'gamma': 0.001}\n",
        "0.836 (+/-0.016) for {'kernel': 'rbf', 'C': 1000, 'gamma': 0.0001}\n",
        "()\n",
        "Detailed classification report:\n",
        "()\n",
        "The model is trained on the full development set.\n",
        "The scores are computed on the full evaluation set.\n",
        "()\n",
        "             precision    recall  f1-score   support\n",
        "\n",
        "        0.0       0.88      0.67      0.76       140\n",
        "        1.0       0.78      0.93      0.85       180\n",
        "\n",
        "avg / total       0.83      0.82      0.81       320\n",
        "\n",
        "()\n"
       ]
      }
     ],
     "prompt_number": 46
    },
    {
     "cell_type": "code",
     "collapsed": false,
     "input": [
      "# Confusion matrix\n",
      "model = svm.SVC(kernel='rbf', C=1000, gamma=0.0001)\n",
      "model.fit(X_train, y_train)\n",
      "y_pred = model.predict(X_test)\n",
      "cm = confusion_matrix(y_test, y_pred)\n",
      "print cm\n",
      "\n",
      "# Show confusion matrix\n",
      "plt.matshow(cm)\n",
      "plt.title('Confusion matrix')\n",
      "plt.colorbar()\n",
      "plt.ylabel('True label')\n",
      "plt.xlabel('Predicted label')\n",
      "plt.show()"
     ],
     "language": "python",
     "metadata": {},
     "outputs": [
      {
       "output_type": "stream",
       "stream": "stdout",
       "text": [
        "[[ 94  46]\n",
        " [ 13 167]]\n"
       ]
      },
      {
       "metadata": {},
       "output_type": "display_data",
       "png": "[encoded data removed]",
       "text": [
        "<matplotlib.figure.Figure at 0x102696f50>"
       ]
      }
     ],
     "prompt_number": 47
    },
    {
     "cell_type": "code",
     "collapsed": false,
     "input": [
      "print \"Nombre de positifs \" + str(len([i for i in y if i == 1.0]))\n",
      "print \"Nombre de n\u00e9gatifs \" + str(len([i for i in y if i == 0.0]))"
     ],
     "language": "python",
     "metadata": {},
     "outputs": [
      {
       "output_type": "stream",
       "stream": "stdout",
       "text": [
        "Nombre de positifs 467\n",
        "Nombre de n\u00e9gatifs 333\n"
       ]
      }
     ],
     "prompt_number": 14
    },
    {
     "cell_type": "code",
     "collapsed": false,
     "input": [
      "# Predict using the best hyper parameter\n",
      "model = svm.SVC(kernel='rbf', C=1000, gamma=0.0001, class_weight=\"auto\")\n",
      "model.fit(X, y)\n",
      "y_pred = model.predict(X_mystery)\n",
      "\n",
      "# Save the predicted labels\n",
      "dump_svmlight_file(X_mystery, y_pred, 'ngarneau-svm-rbf-scaled')"
     ],
     "language": "python",
     "metadata": {},
     "outputs": [],
     "prompt_number": 48
    },
    {
     "cell_type": "code",
     "collapsed": false,
     "input": [],
     "language": "python",
     "metadata": {},
     "outputs": []
    }
   ],
   "metadata": {}
  }
 ]
}